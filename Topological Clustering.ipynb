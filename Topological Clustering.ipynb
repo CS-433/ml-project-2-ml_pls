{
 "cells": [
  {
   "cell_type": "code",
   "execution_count": 1,
   "id": "28b5f995",
   "metadata": {},
   "outputs": [],
   "source": [
    "import numpy as np\n",
    "import matplotlib.pyplot as plt\n",
    "from matplotlib.colors import LogNorm\n",
    "from sklearn import mixture\n",
    "import sklearn as sklearn\n",
    "import math as math\n",
    "import pandas as pd\n",
    "import itertools\n",
    "import seaborn as sn\n",
    "import random\n",
    "import matplotlib.pyplot as plt\n",
    "from scipy import stats\n",
    "from sklearn.manifold import TSNE\n",
    "from sklearn.decomposition import PCA\n",
    "import kmapper as km \n",
    "from sklearn.cluster import KMeans"
   ]
  },
  {
   "cell_type": "code",
   "execution_count": 2,
   "id": "8af89514",
   "metadata": {},
   "outputs": [],
   "source": [
    "df = pd.read_csv ('CleanVariables_SZOnly.csv',sep=',') #Import data as dataframe\n",
    "X = df.iloc[:,1:].to_numpy() #Make an array with only the features we need \n"
   ]
  },
  {
   "cell_type": "markdown",
   "id": "20431c7c",
   "metadata": {},
   "source": [
    "# Topological clustering : \n"
   ]
  },
  {
   "cell_type": "code",
   "execution_count": 3,
   "id": "9895df2d",
   "metadata": {},
   "outputs": [],
   "source": [
    "from kmapper.plotlyviz import plotlyviz"
   ]
  },
  {
   "cell_type": "code",
   "execution_count": 4,
   "id": "258f88d8",
   "metadata": {},
   "outputs": [],
   "source": [
    "mapper = km.KeplerMapper(verbose=0)\n",
    "lens = mapper.fit_transform(X)\n",
    "scomplex = mapper.map(lens,\n",
    "                      X,\n",
    "                      clusterer=sklearn.cluster.KMeans(n_clusters=3, random_state=0),\n",
    "                      cover=km.Cover(n_cubes=15, perc_overlap=0.2))"
   ]
  },
  {
   "cell_type": "code",
   "execution_count": 5,
   "id": "007160cb",
   "metadata": {},
   "outputs": [
    {
     "data": {
      "application/vnd.jupyter.widget-view+json": {
       "model_id": "f6a088b2a1c743468a3c9e01eb214740",
       "version_major": 2,
       "version_minor": 0
      },
      "text/plain": [
       "FigureWidget({\n",
       "    'data': [{'hoverinfo': 'none',\n",
       "              'line': {'color': 'rgb(180,180,180)', 'width':…"
      ]
     },
     "metadata": {},
     "output_type": "display_data"
    }
   ],
   "source": [
    "title = 'Topological network associated the data set(KMeans)'\n",
    "\n",
    "plotlyviz(scomplex, title=title)"
   ]
  },
  {
   "cell_type": "code",
   "execution_count": 14,
   "id": "7e6c5ab8",
   "metadata": {},
   "outputs": [],
   "source": [
    "mapper = km.KeplerMapper(verbose=0)\n",
    "lens = mapper.fit_transform(X)\n",
    "scomplex = mapper.map(lens,\n",
    "                      X,\n",
    "                      clusterer=sklearn.mixture.GaussianMixture(n_components=3, random_state=0),\n",
    "                      cover=km.Cover(n_cubes=15, perc_overlap=0.2))"
   ]
  },
  {
   "cell_type": "code",
   "execution_count": 16,
   "id": "f5e4b335",
   "metadata": {},
   "outputs": [
    {
     "data": {
      "application/vnd.jupyter.widget-view+json": {
       "model_id": "eb90b5fa2e6b406680480cfc99278cc0",
       "version_major": 2,
       "version_minor": 0
      },
      "text/plain": [
       "FigureWidget({\n",
       "    'data': [{'hoverinfo': 'none',\n",
       "              'line': {'color': 'rgb(180,180,180)', 'width':…"
      ]
     },
     "metadata": {},
     "output_type": "display_data"
    }
   ],
   "source": [
    "title = 'Topological network associated the data set(EM)'\n",
    "\n",
    "plotlyviz(scomplex, title=title)"
   ]
  },
  {
   "cell_type": "code",
   "execution_count": null,
   "id": "19a50f9b",
   "metadata": {},
   "outputs": [],
   "source": []
  }
 ],
 "metadata": {
  "kernelspec": {
   "display_name": "Python 3",
   "language": "python",
   "name": "python3"
  },
  "language_info": {
   "codemirror_mode": {
    "name": "ipython",
    "version": 3
   },
   "file_extension": ".py",
   "mimetype": "text/x-python",
   "name": "python",
   "nbconvert_exporter": "python",
   "pygments_lexer": "ipython3",
   "version": "3.8.8"
  }
 },
 "nbformat": 4,
 "nbformat_minor": 5
}
